{
 "cells": [
  {
   "cell_type": "code",
   "execution_count": null,
   "metadata": {},
   "outputs": [],
   "source": [
    "using Optim\n",
    "\n",
    "# 最小化したい関数 (xの型指定をしていない！)\n",
    "f(x) = (1.0 - x[1])^2 + 100.0 * (x[2] - x[1]^2)^2\n",
    "\n",
    "# 数値微分（差分法）で勾配を計算\n",
    "function g(x::Array{Float64})\n",
    "    G = similar(x)\n",
    "    h = 1e-8\n",
    "    for i in 1:length(x)\n",
    "        tmp = x[i]\n",
    "        x[i] = tmp + h\n",
    "        f1 = f(x)\n",
    "        x[i] = tmp - h\n",
    "        f2 = f(x)\n",
    "        G[i] = (f1 - f2) / (2h)\n",
    "        x[i] = tmp\n",
    "    end\n",
    "    return G\n",
    "end\n",
    "\n",
    "# 初期値\n",
    "initial_x = [0.0, 0.0]"
   ]
  },
  {
   "cell_type": "code",
   "execution_count": null,
   "metadata": {},
   "outputs": [],
   "source": [
    "# Finite difference method\n",
    "g(initial_x)"
   ]
  },
  {
   "cell_type": "code",
   "execution_count": null,
   "metadata": {},
   "outputs": [],
   "source": [
    "# Reverse-mode AD/back propagation using Zygote\n",
    "using Zygote\n",
    "\n",
    "gradient(f, initial_x)"
   ]
  },
  {
   "cell_type": "code",
   "execution_count": null,
   "metadata": {},
   "outputs": [],
   "source": [
    "g_zygote = x -> gradient(f, x)[1]\n",
    "g_zygote(initial_x)"
   ]
  },
  {
   "cell_type": "code",
   "execution_count": null,
   "metadata": {},
   "outputs": [],
   "source": [
    "# 最適化問題を解く\n",
    "result = optimize(f, g_zygote, initial_x, LBFGS(), Optim.Options(show_trace=true), inplace=false)"
   ]
  },
  {
   "cell_type": "code",
   "execution_count": null,
   "metadata": {},
   "outputs": [],
   "source": [
    "# もしくは、Optim内蔵のForwardDiffを使う\n",
    "result = optimize(f, initial_x, LBFGS(), Optim.Options(show_trace=true), autodiff = :forward)"
   ]
  },
  {
   "cell_type": "code",
   "execution_count": null,
   "metadata": {},
   "outputs": [],
   "source": []
  }
 ],
 "metadata": {
  "kernelspec": {
   "display_name": "Julia 1.9.1",
   "language": "julia",
   "name": "julia-1.9"
  },
  "language_info": {
   "file_extension": ".jl",
   "mimetype": "application/julia",
   "name": "julia",
   "version": "1.9.1"
  },
  "orig_nbformat": 4
 },
 "nbformat": 4,
 "nbformat_minor": 2
}
