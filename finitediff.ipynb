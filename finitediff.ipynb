{
 "cells": [
  {
   "cell_type": "code",
   "execution_count": null,
   "metadata": {},
   "outputs": [],
   "source": [
    "using Optim\n",
    "\n",
    "# 最小化したい関数\n",
    "f(x::Array{Float64}) = (1.0 - x[1])^2 + 100.0 * (x[2] - x[1]^2)^2\n",
    "\n",
    "# 初期値\n",
    "initial_x = [0.0, 0.0]\n",
    "\n",
    "# 数値微分（差分法）で勾配を計算\n",
    "function g!(G::Array{Float64}, x::Array{Float64})\n",
    "    h = 1e-8\n",
    "    for i in 1:length(x)\n",
    "        tmp = x[i]\n",
    "        x[i] = tmp + h\n",
    "        f1 = f(x)\n",
    "        x[i] = tmp - h\n",
    "        f2 = f(x)\n",
    "        G[i] = (f1 - f2) / (2h)\n",
    "        x[i] = tmp\n",
    "    end\n",
    "end\n",
    "\n",
    "# 最適化問題を解く\n",
    "result = optimize(f, g!, initial_x, LBFGS(), Optim.Options(show_trace=true))\n",
    "println(\"The minimum is at: \", Optim.minimizer(result))"
   ]
  },
  {
   "cell_type": "code",
   "execution_count": null,
   "metadata": {},
   "outputs": [],
   "source": [
    "# 数値微分（差分法）で勾配を計算\n",
    "function g(x::Array{Float64})\n",
    "    G = similar(x)\n",
    "    h = 1e-8\n",
    "    for i in 1:length(x)\n",
    "        tmp = x[i]\n",
    "        x[i] = tmp + h\n",
    "        f1 = f(x)\n",
    "        x[i] = tmp - h\n",
    "        f2 = f(x)\n",
    "        G[i] = (f1 - f2) / (2h)\n",
    "        x[i] = tmp\n",
    "    end\n",
    "    return G\n",
    "end\n",
    "\n",
    "# 最適化問題を解く\n",
    "result = optimize(f, g, initial_x, LBFGS(), Optim.Options(show_trace=true), inplace=false)\n",
    "println(\"The minimum is at: \", Optim.minimizer(result))"
   ]
  },
  {
   "cell_type": "code",
   "execution_count": null,
   "metadata": {},
   "outputs": [],
   "source": [
    "# 実はOptimには数値微分（差分法）を使わなくても、勾配を計算する機能がある\n",
    "result = optimize(f, initial_x, LBFGS(), Optim.Options(show_trace=true), autodiff = :finite)"
   ]
  },
  {
   "cell_type": "code",
   "execution_count": null,
   "metadata": {},
   "outputs": [],
   "source": []
  }
 ],
 "metadata": {
  "kernelspec": {
   "display_name": "Julia 1.9.1",
   "language": "julia",
   "name": "julia-1.9"
  },
  "language_info": {
   "file_extension": ".jl",
   "mimetype": "application/julia",
   "name": "julia",
   "version": "1.9.1"
  },
  "orig_nbformat": 4
 },
 "nbformat": 4,
 "nbformat_minor": 2
}
